{
 "cells": [
  {
   "cell_type": "code",
   "execution_count": 94,
   "id": "43d20964",
   "metadata": {},
   "outputs": [],
   "source": [
    "import json\n",
    "import csv\n",
    "import pandas as pd\n",
    "pd.set_option('display.max_colwidth', None)"
   ]
  },
  {
   "cell_type": "code",
   "execution_count": 2,
   "id": "dd3b1e9b",
   "metadata": {},
   "outputs": [
    {
     "name": "stdout",
     "output_type": "stream",
     "text": [
      "Job_Scrapper.py               geckodriver.log\r\n",
      "Job_description.py            jsonreader.ipynb\r\n",
      "JobsCalifornia.csv            keywordJobsCalifornia.json\r\n",
      "JobsIllinois.csv              keywordJobsIllinois.json\r\n",
      "JobsKansas.csv                keywordJobsKansas.json\r\n",
      "JobsNew York.csv              keywordJobsNew York.json\r\n",
      "JobsTexas.csv                 keywordJobsTexas.json\r\n",
      "JobsWashington DC.csv         keywordJobsWashington DC.json\r\n",
      "Plotting.py\r\n"
     ]
    }
   ],
   "source": [
    "!ls"
   ]
  },
  {
   "cell_type": "code",
   "execution_count": 103,
   "id": "c8dd9232",
   "metadata": {},
   "outputs": [],
   "source": [
    " f = open('keywordJobsCalifornia.json','r')\n",
    "    "
   ]
  },
  {
   "cell_type": "code",
   "execution_count": 104,
   "id": "749fb356",
   "metadata": {},
   "outputs": [
    {
     "name": "stdout",
     "output_type": "stream",
     "text": [
      "['Companies', 'Links']\n",
      "['Faire', 'https://www.monster.com/job-openings/staff-machine-learning-scientist-search-ranking-personalization-san-francisco-ca--4b50fbef-4740-4a95-af40-232d0905d02f']\n",
      "['C3 IoT', 'https://www.monster.com/job-openings/sr-software-engineer-ai-machine-learning-redwood-city-ca--98558b77-582d-4c31-8d6c-d1e15f4e75e7']\n",
      "['Nigel Frank International', 'https://www.monster.com/job-openings/senior-data-scientist-san-francisco-ca--519d5f6f-7966-41e7-a361-d5ec60f489c6']\n",
      "['Jobot', 'https://www.monster.com/job-openings/data-scientist-translational-informatics-los-angeles-ca--ccb111e3-68f3-40a1-8ca2-9a16f30dccba']\n",
      "['Randstad Technologies', 'https://www.monster.com/job-openings/data-scientist-san-bruno-ca--21f30fad-045c-430d-8806-c8043f95a8e8']\n",
      "['Nuna', 'https://www.monster.com/job-openings/data-scientist-meaningful-matches-san-francisco-ca--fa13fd2d-75d2-4359-a584-55cb7abe47f7']\n",
      "['Jerry', 'https://www.monster.com/job-openings/data-scientist-palo-alto-ca--3157d49d-13a7-485f-8b27-1865026b3e2e']\n",
      "['The Walt Disney Company', 'https://www.monster.com/job-openings/data-scientist-audience-segmentation-santa-monica-ca--93f34244-fd6e-4856-9690-439653e094fa']\n",
      "['Ascent Services Group', 'https://www.monster.com/job-openings/data-scientist-iv-south-san-francisco-ca--c9587464-1580-4afd-9b22-1c4b1fa6981b']\n",
      "['Experian Services Corp', 'https://www.monster.com/job-openings/data-scientist-job-number-212213-costa-mesa-ca--d176c28e-40d8-4590-b658-111d6baf21b7']\n",
      "['3 Key Consulting', 'https://www.monster.com/job-openings/data-scientist-jp8307-thousand-oaks-ca--37d5196d-d68d-4e0c-8223-de4421c80038']\n",
      "['Tellus Solutions', 'https://www.monster.com/job-openings/data-scientist-i-sunnyvale-ca--8ef9da9f-9722-461e-ac5d-796a1eea1dc7']\n",
      "['SetSail', 'https://www.monster.com/job-openings/data-scientist-san-mateo-ca--034ce380-5233-4147-b4df-30373fec9e3f']\n",
      "['Cuberg', 'https://www.monster.com/job-openings/data-scientist-emeryville-ca--21c1039e-b2ef-4a5b-81e3-e03bda471a80']\n",
      "['Innovyze', 'https://www.monster.com/job-openings/principal-data-scientist--c870a228-5152-471a-a7c3-ea417314c625']\n",
      "['Woodruff-Sawyer & Company', 'https://www.monster.com/job-openings/lead-data-scientist-products-san-francisco-ca--f6b3adaa-cd0c-4e80-98c8-f406e16fd44b']\n",
      "['Jobot', 'https://www.monster.com/job-openings/lead-data-scientist-san-francisco-ca--5654c29c-a5a8-44ac-8b05-20454f3c9d8a']\n",
      "['Jobot', 'https://www.monster.com/job-openings/lead-data-scientist-san-francisco-ca--4abe2c5d-ca61-4301-a024-426ea74e3844']\n",
      "['Jobot', 'https://www.monster.com/job-openings/senior-data-scientist-san-mateo-ca--9d9a23d1-139e-4c47-84c0-b251d9860559']\n",
      "['MSG', 'https://www.monster.com/job-openings/data-scientist-burbank-ca--b0f2de1b-f4dc-4996-b477-ad20ff94acd7']\n",
      "['Jobot', 'https://www.monster.com/job-openings/senior-data-scientist-san-mateo-ca--2e6cf967-cd91-4131-9d9b-d60d6b72db8a']\n",
      "['ISO', 'https://www.monster.com/job-openings/lead-data-scientist-san-francisco-ca--7ae78f7b-654c-41a9-aef6-29d59534ab37']\n",
      "['FocusKPI Inc.', 'https://www.monster.com/job-openings/data-scientist-mountain-view-ca--0ae45e66-b08b-4437-8abd-ba5e2bd4df63']\n",
      "['Jobot', 'https://www.monster.com/job-openings/data-scientist-translational-informatics-san-francisco-ca--1c75b7af-1b6e-4042-83ac-38fc685c8782']\n",
      "['Jobot', 'https://www.monster.com/job-openings/data-scientist-translational-informatics-san-francisco-ca--c08edb1b-fba9-40e7-89d5-5f5e05f6eb89']\n",
      "['Vungle, Inc.', 'https://www.monster.com/job-openings/data-scientist-san-francisco-ca--0adc1f8b-7280-4036-bc1a-61ffdc564d05']\n",
      "['vivendi', 'https://www.monster.com/job-openings/senior-data-scientist-santa-monica-ca--f9e86f8a-2417-4864-ac9c-6a8b0ed2e5cc']\n",
      "['Jobot', 'https://www.monster.com/job-openings/senior-data-scientist-san-francisco-ca--dd6b790c-032b-4a04-9117-db6f24e5b151']\n",
      "['Artech LLC', 'https://www.monster.com/job-openings/data-scientist-mountain-view-ca--2727e53e-b79c-4f98-b1c3-59aae52dad41']\n",
      "['Weee! Inc', 'https://www.monster.com/job-openings/data-scientist-fremont-ca--1073728f-a299-437a-8474-9c05a163a449']\n",
      "['Stripe', 'https://www.monster.com/job-openings/data-scientist-payments-san-francisco-ca--f7035d34-3f33-4cd8-af46-2e5f90e0e575']\n",
      "['SAP', 'https://www.monster.com/job-openings/data-scientist-palo-alto-ca--b37b375a-60b0-4cd0-8b79-9c21b8214d99']\n",
      "['Evolvinc', 'https://www.monster.com/job-openings/data-scientist-burbank-ca--def2f00b-9ec7-4f7b-865f-cf2d2030a11b']\n",
      "['Jobot', 'https://www.monster.com/job-openings/data-scientist-translational-informatics-menlo-park-ca--3a067240-200b-401a-8ae1-9719af787953']\n",
      "['Jobot', 'https://www.monster.com/job-openings/data-scientist-translational-informatics-menlo-park-ca--25af8ee5-b1c9-4e28-a046-0269458e4621']\n",
      "['Genuent', 'https://www.monster.com/job-openings/principal-data-scientist-content-analytics-burbank-ca--a0762aed-43fa-45e8-b2d0-19a9c28f5f3d']\n",
      "['IPS Technology Services', 'https://www.monster.com/job-openings/data-scientist-san-bruno-ca--cf628376-3a37-4e5c-9c17-4590a77b05d2']\n",
      "['The Judge Group', 'https://www.monster.com/job-openings/data-scientist-san-francisco-ca--b8cfdce0-fe76-469d-9b2e-ebc7a7e23feb']\n",
      "['Advanced Bio-Logic Solutions Corp', 'https://www.monster.com/job-openings/data-scientist-associate-thousand-oaks-ca--33117b67-1ce4-46c4-8e81-9c9465cf5699']\n",
      "['NewWave Telecom & Technologies, Inc.', 'https://www.monster.com/job-openings/applied-research-data-scientist--0f33d90d-1c94-450b-978d-fbc9cb273a2c']\n",
      "['Doorstead', 'https://www.monster.com/job-openings/data-scientist-san-francisco-ca--6e2842ec-c4d9-4280-b6c2-74e2711039d9']\n",
      "['Doorstead', 'https://www.monster.com/job-openings/data-scientist-ca--ac7bb686-0ab7-42b6-ab26-3793e6695c36']\n",
      "['Tech-Connect', 'https://www.monster.com/job-openings/principal-data-scientist-200000cc-san-francisco-ca--9fb0762f-32d3-40ba-8976-de4f3f11c6d1']\n",
      "['ICONMA, LLC', 'https://www.monster.com/job-openings/data-scientist-3-sacramento-ca--d8c80efb-a387-4c12-ace5-47e01810b364']\n",
      "['NinthDecimal', 'https://www.monster.com/job-openings/sr-data-scientist-san-francisco-ca--3d06675c-8d33-43c5-b80f-a8ea1a63d03e']\n",
      "['coca cola beverages', 'https://www.monster.com/job-openings/member-of-research-staff-data-science-palo-alto-ca--a00296f2-8246-461e-9b1a-9e1d2906dc58']\n",
      "['Faire', 'https://www.monster.com/job-openings/lead-data-scientist-growth-success-san-francisco-ca--2bbda39a-b3fe-41ff-86d9-e38c3829da3d']\n"
     ]
    }
   ],
   "source": [
    "#data = json.load(f)\n",
    "Companies = []\n",
    "Links  = []\n",
    "file = open('JobsCalifornia.csv','r')\n",
    "for line in csv.reader(file):\n",
    "    Companies.append(line[0])\n",
    "    Links.append(line[1])"
   ]
  },
  {
   "cell_type": "code",
   "execution_count": 95,
   "id": "84f9bc87",
   "metadata": {},
   "outputs": [
    {
     "data": {
      "text/plain": [
       "0     https://www.monster.com/job-openings/staff-machine-learning-scientist-search-ranking-personalization-san-francisco-ca--4b50fbef-4740-4a95-af40-232d0905d02f\n",
       "1                             https://www.monster.com/job-openings/sr-software-engineer-ai-machine-learning-redwood-city-ca--98558b77-582d-4c31-8d6c-d1e15f4e75e7\n",
       "2                                               https://www.monster.com/job-openings/senior-data-scientist-san-francisco-ca--519d5f6f-7966-41e7-a361-d5ec60f489c6\n",
       "3                              https://www.monster.com/job-openings/data-scientist-translational-informatics-los-angeles-ca--ccb111e3-68f3-40a1-8ca2-9a16f30dccba\n",
       "4                                                          https://www.monster.com/job-openings/data-scientist-san-bruno-ca--21f30fad-045c-430d-8806-c8043f95a8e8\n",
       "5                                   https://www.monster.com/job-openings/data-scientist-meaningful-matches-san-francisco-ca--fa13fd2d-75d2-4359-a584-55cb7abe47f7\n",
       "6                                                          https://www.monster.com/job-openings/data-scientist-palo-alto-ca--3157d49d-13a7-485f-8b27-1865026b3e2e\n",
       "7                                 https://www.monster.com/job-openings/data-scientist-audience-segmentation-santa-monica-ca--93f34244-fd6e-4856-9690-439653e094fa\n",
       "8                                             https://www.monster.com/job-openings/data-scientist-iv-south-san-francisco-ca--c9587464-1580-4afd-9b22-1c4b1fa6981b\n",
       "9                                       https://www.monster.com/job-openings/data-scientist-job-number-212213-costa-mesa-ca--d176c28e-40d8-4590-b658-111d6baf21b7\n",
       "10                                              https://www.monster.com/job-openings/data-scientist-jp8307-thousand-oaks-ca--37d5196d-d68d-4e0c-8223-de4421c80038\n",
       "11                                                       https://www.monster.com/job-openings/data-scientist-i-sunnyvale-ca--8ef9da9f-9722-461e-ac5d-796a1eea1dc7\n",
       "12                                                         https://www.monster.com/job-openings/data-scientist-san-mateo-ca--034ce380-5233-4147-b4df-30373fec9e3f\n",
       "13                                                        https://www.monster.com/job-openings/data-scientist-emeryville-ca--21c1039e-b2ef-4a5b-81e3-e03bda471a80\n",
       "14                                                            https://www.monster.com/job-openings/principal-data-scientist--c870a228-5152-471a-a7c3-ea417314c625\n",
       "15                                       https://www.monster.com/job-openings/lead-data-scientist-products-san-francisco-ca--f6b3adaa-cd0c-4e80-98c8-f406e16fd44b\n",
       "16                                                https://www.monster.com/job-openings/lead-data-scientist-san-francisco-ca--5654c29c-a5a8-44ac-8b05-20454f3c9d8a\n",
       "17                                                https://www.monster.com/job-openings/lead-data-scientist-san-francisco-ca--4abe2c5d-ca61-4301-a024-426ea74e3844\n",
       "18                                                  https://www.monster.com/job-openings/senior-data-scientist-san-mateo-ca--9d9a23d1-139e-4c47-84c0-b251d9860559\n",
       "19                                                           https://www.monster.com/job-openings/data-scientist-burbank-ca--b0f2de1b-f4dc-4996-b477-ad20ff94acd7\n",
       "20                                                  https://www.monster.com/job-openings/senior-data-scientist-san-mateo-ca--2e6cf967-cd91-4131-9d9b-d60d6b72db8a\n",
       "21                                                https://www.monster.com/job-openings/lead-data-scientist-san-francisco-ca--7ae78f7b-654c-41a9-aef6-29d59534ab37\n",
       "22                                                     https://www.monster.com/job-openings/data-scientist-mountain-view-ca--0ae45e66-b08b-4437-8abd-ba5e2bd4df63\n",
       "23                           https://www.monster.com/job-openings/data-scientist-translational-informatics-san-francisco-ca--1c75b7af-1b6e-4042-83ac-38fc685c8782\n",
       "24                           https://www.monster.com/job-openings/data-scientist-translational-informatics-san-francisco-ca--c08edb1b-fba9-40e7-89d5-5f5e05f6eb89\n",
       "25                                                     https://www.monster.com/job-openings/data-scientist-san-francisco-ca--0adc1f8b-7280-4036-bc1a-61ffdc564d05\n",
       "26                                               https://www.monster.com/job-openings/senior-data-scientist-santa-monica-ca--f9e86f8a-2417-4864-ac9c-6a8b0ed2e5cc\n",
       "27                                              https://www.monster.com/job-openings/senior-data-scientist-san-francisco-ca--dd6b790c-032b-4a04-9117-db6f24e5b151\n",
       "28                                                     https://www.monster.com/job-openings/data-scientist-mountain-view-ca--2727e53e-b79c-4f98-b1c3-59aae52dad41\n",
       "29                                                           https://www.monster.com/job-openings/data-scientist-fremont-ca--1073728f-a299-437a-8474-9c05a163a449\n",
       "30                                            https://www.monster.com/job-openings/data-scientist-payments-san-francisco-ca--f7035d34-3f33-4cd8-af46-2e5f90e0e575\n",
       "31                                                         https://www.monster.com/job-openings/data-scientist-palo-alto-ca--b37b375a-60b0-4cd0-8b79-9c21b8214d99\n",
       "32                                                           https://www.monster.com/job-openings/data-scientist-burbank-ca--def2f00b-9ec7-4f7b-865f-cf2d2030a11b\n",
       "33                              https://www.monster.com/job-openings/data-scientist-translational-informatics-menlo-park-ca--3a067240-200b-401a-8ae1-9719af787953\n",
       "34                              https://www.monster.com/job-openings/data-scientist-translational-informatics-menlo-park-ca--25af8ee5-b1c9-4e28-a046-0269458e4621\n",
       "35                               https://www.monster.com/job-openings/principal-data-scientist-content-analytics-burbank-ca--a0762aed-43fa-45e8-b2d0-19a9c28f5f3d\n",
       "36                                                         https://www.monster.com/job-openings/data-scientist-san-bruno-ca--cf628376-3a37-4e5c-9c17-4590a77b05d2\n",
       "37                                                     https://www.monster.com/job-openings/data-scientist-san-francisco-ca--b8cfdce0-fe76-469d-9b2e-ebc7a7e23feb\n",
       "38                                           https://www.monster.com/job-openings/data-scientist-associate-thousand-oaks-ca--33117b67-1ce4-46c4-8e81-9c9465cf5699\n",
       "39                                                     https://www.monster.com/job-openings/applied-research-data-scientist--0f33d90d-1c94-450b-978d-fbc9cb273a2c\n",
       "40                                                     https://www.monster.com/job-openings/data-scientist-san-francisco-ca--6e2842ec-c4d9-4280-b6c2-74e2711039d9\n",
       "41                                                                   https://www.monster.com/job-openings/data-scientist-ca--ac7bb686-0ab7-42b6-ab26-3793e6695c36\n",
       "42                                  https://www.monster.com/job-openings/principal-data-scientist-200000cc-san-francisco-ca--9fb0762f-32d3-40ba-8976-de4f3f11c6d1\n",
       "43                                                      https://www.monster.com/job-openings/data-scientist-3-sacramento-ca--d8c80efb-a387-4c12-ace5-47e01810b364\n",
       "44                                                  https://www.monster.com/job-openings/sr-data-scientist-san-francisco-ca--3d06675c-8d33-43c5-b80f-a8ea1a63d03e\n",
       "45                                  https://www.monster.com/job-openings/member-of-research-staff-data-science-palo-alto-ca--a00296f2-8246-461e-9b1a-9e1d2906dc58\n",
       "46                                 https://www.monster.com/job-openings/lead-data-scientist-growth-success-san-francisco-ca--2bbda39a-b3fe-41ff-86d9-e38c3829da3d\n",
       "Name: Links, dtype: object"
      ]
     },
     "execution_count": 95,
     "metadata": {},
     "output_type": "execute_result"
    }
   ],
   "source": [
    "file = open('/Users/abhinavgairola/Desktop/Python_Workspace/Job_Scraper/Script/JobsCalifornia.csv','r')\n",
    "data_2 = csv.reader(file)\n",
    "Links = []\n",
    "Companies =[]\n",
    "for line in data_2:\n",
    "    #Links.append(line[1])\n",
    "    for l in line:\n",
    "        Links.append(l)\n",
    "    #Companies.append(line[0])\n",
    "df = pd.DataFrame({\"Companies\":Companies,\"Links\":Links})\n",
    "df.Links"
   ]
  },
  {
   "cell_type": "code",
   "execution_count": 98,
   "id": "6db1e059",
   "metadata": {},
   "outputs": [],
   "source": [
    "df = pd.read_csv('/Users/abhinavgairola/Desktop/Python_Workspace/Job_Scraper/Script/JobsCalifornia.csv')"
   ]
  },
  {
   "cell_type": "code",
   "execution_count": 102,
   "id": "01e29ad6",
   "metadata": {},
   "outputs": [
    {
     "data": {
      "text/plain": [
       "0     https://www.monster.com/job-openings/staff-machine-learning-scientist-search-ranking-personalization-san-francisco-ca--4b50fbef-4740-4a95-af40-232d0905d02f\n",
       "1                             https://www.monster.com/job-openings/sr-software-engineer-ai-machine-learning-redwood-city-ca--98558b77-582d-4c31-8d6c-d1e15f4e75e7\n",
       "2                                               https://www.monster.com/job-openings/senior-data-scientist-san-francisco-ca--519d5f6f-7966-41e7-a361-d5ec60f489c6\n",
       "3                              https://www.monster.com/job-openings/data-scientist-translational-informatics-los-angeles-ca--ccb111e3-68f3-40a1-8ca2-9a16f30dccba\n",
       "4                                                          https://www.monster.com/job-openings/data-scientist-san-bruno-ca--21f30fad-045c-430d-8806-c8043f95a8e8\n",
       "5                                   https://www.monster.com/job-openings/data-scientist-meaningful-matches-san-francisco-ca--fa13fd2d-75d2-4359-a584-55cb7abe47f7\n",
       "6                                                          https://www.monster.com/job-openings/data-scientist-palo-alto-ca--3157d49d-13a7-485f-8b27-1865026b3e2e\n",
       "7                                 https://www.monster.com/job-openings/data-scientist-audience-segmentation-santa-monica-ca--93f34244-fd6e-4856-9690-439653e094fa\n",
       "8                                             https://www.monster.com/job-openings/data-scientist-iv-south-san-francisco-ca--c9587464-1580-4afd-9b22-1c4b1fa6981b\n",
       "9                                       https://www.monster.com/job-openings/data-scientist-job-number-212213-costa-mesa-ca--d176c28e-40d8-4590-b658-111d6baf21b7\n",
       "10                                              https://www.monster.com/job-openings/data-scientist-jp8307-thousand-oaks-ca--37d5196d-d68d-4e0c-8223-de4421c80038\n",
       "11                                                       https://www.monster.com/job-openings/data-scientist-i-sunnyvale-ca--8ef9da9f-9722-461e-ac5d-796a1eea1dc7\n",
       "12                                                         https://www.monster.com/job-openings/data-scientist-san-mateo-ca--034ce380-5233-4147-b4df-30373fec9e3f\n",
       "13                                                        https://www.monster.com/job-openings/data-scientist-emeryville-ca--21c1039e-b2ef-4a5b-81e3-e03bda471a80\n",
       "14                                                            https://www.monster.com/job-openings/principal-data-scientist--c870a228-5152-471a-a7c3-ea417314c625\n",
       "15                                       https://www.monster.com/job-openings/lead-data-scientist-products-san-francisco-ca--f6b3adaa-cd0c-4e80-98c8-f406e16fd44b\n",
       "16                                                https://www.monster.com/job-openings/lead-data-scientist-san-francisco-ca--5654c29c-a5a8-44ac-8b05-20454f3c9d8a\n",
       "17                                                https://www.monster.com/job-openings/lead-data-scientist-san-francisco-ca--4abe2c5d-ca61-4301-a024-426ea74e3844\n",
       "18                                                  https://www.monster.com/job-openings/senior-data-scientist-san-mateo-ca--9d9a23d1-139e-4c47-84c0-b251d9860559\n",
       "19                                                           https://www.monster.com/job-openings/data-scientist-burbank-ca--b0f2de1b-f4dc-4996-b477-ad20ff94acd7\n",
       "20                                                  https://www.monster.com/job-openings/senior-data-scientist-san-mateo-ca--2e6cf967-cd91-4131-9d9b-d60d6b72db8a\n",
       "21                                                https://www.monster.com/job-openings/lead-data-scientist-san-francisco-ca--7ae78f7b-654c-41a9-aef6-29d59534ab37\n",
       "22                                                     https://www.monster.com/job-openings/data-scientist-mountain-view-ca--0ae45e66-b08b-4437-8abd-ba5e2bd4df63\n",
       "23                           https://www.monster.com/job-openings/data-scientist-translational-informatics-san-francisco-ca--1c75b7af-1b6e-4042-83ac-38fc685c8782\n",
       "24                           https://www.monster.com/job-openings/data-scientist-translational-informatics-san-francisco-ca--c08edb1b-fba9-40e7-89d5-5f5e05f6eb89\n",
       "25                                                     https://www.monster.com/job-openings/data-scientist-san-francisco-ca--0adc1f8b-7280-4036-bc1a-61ffdc564d05\n",
       "26                                               https://www.monster.com/job-openings/senior-data-scientist-santa-monica-ca--f9e86f8a-2417-4864-ac9c-6a8b0ed2e5cc\n",
       "27                                              https://www.monster.com/job-openings/senior-data-scientist-san-francisco-ca--dd6b790c-032b-4a04-9117-db6f24e5b151\n",
       "28                                                     https://www.monster.com/job-openings/data-scientist-mountain-view-ca--2727e53e-b79c-4f98-b1c3-59aae52dad41\n",
       "29                                                           https://www.monster.com/job-openings/data-scientist-fremont-ca--1073728f-a299-437a-8474-9c05a163a449\n",
       "30                                            https://www.monster.com/job-openings/data-scientist-payments-san-francisco-ca--f7035d34-3f33-4cd8-af46-2e5f90e0e575\n",
       "31                                                         https://www.monster.com/job-openings/data-scientist-palo-alto-ca--b37b375a-60b0-4cd0-8b79-9c21b8214d99\n",
       "32                                                           https://www.monster.com/job-openings/data-scientist-burbank-ca--def2f00b-9ec7-4f7b-865f-cf2d2030a11b\n",
       "33                              https://www.monster.com/job-openings/data-scientist-translational-informatics-menlo-park-ca--3a067240-200b-401a-8ae1-9719af787953\n",
       "34                              https://www.monster.com/job-openings/data-scientist-translational-informatics-menlo-park-ca--25af8ee5-b1c9-4e28-a046-0269458e4621\n",
       "35                               https://www.monster.com/job-openings/principal-data-scientist-content-analytics-burbank-ca--a0762aed-43fa-45e8-b2d0-19a9c28f5f3d\n",
       "36                                                         https://www.monster.com/job-openings/data-scientist-san-bruno-ca--cf628376-3a37-4e5c-9c17-4590a77b05d2\n",
       "37                                                     https://www.monster.com/job-openings/data-scientist-san-francisco-ca--b8cfdce0-fe76-469d-9b2e-ebc7a7e23feb\n",
       "38                                           https://www.monster.com/job-openings/data-scientist-associate-thousand-oaks-ca--33117b67-1ce4-46c4-8e81-9c9465cf5699\n",
       "39                                                     https://www.monster.com/job-openings/applied-research-data-scientist--0f33d90d-1c94-450b-978d-fbc9cb273a2c\n",
       "40                                                     https://www.monster.com/job-openings/data-scientist-san-francisco-ca--6e2842ec-c4d9-4280-b6c2-74e2711039d9\n",
       "41                                                                   https://www.monster.com/job-openings/data-scientist-ca--ac7bb686-0ab7-42b6-ab26-3793e6695c36\n",
       "42                                  https://www.monster.com/job-openings/principal-data-scientist-200000cc-san-francisco-ca--9fb0762f-32d3-40ba-8976-de4f3f11c6d1\n",
       "43                                                      https://www.monster.com/job-openings/data-scientist-3-sacramento-ca--d8c80efb-a387-4c12-ace5-47e01810b364\n",
       "44                                                  https://www.monster.com/job-openings/sr-data-scientist-san-francisco-ca--3d06675c-8d33-43c5-b80f-a8ea1a63d03e\n",
       "45                                  https://www.monster.com/job-openings/member-of-research-staff-data-science-palo-alto-ca--a00296f2-8246-461e-9b1a-9e1d2906dc58\n",
       "46                                 https://www.monster.com/job-openings/lead-data-scientist-growth-success-san-francisco-ca--2bbda39a-b3fe-41ff-86d9-e38c3829da3d\n",
       "Name: Links, dtype: object"
      ]
     },
     "execution_count": 102,
     "metadata": {},
     "output_type": "execute_result"
    }
   ],
   "source": [
    "df.Links"
   ]
  },
  {
   "cell_type": "code",
   "execution_count": 78,
   "id": "1c1f44de",
   "metadata": {},
   "outputs": [
    {
     "data": {
      "text/plain": [
       "['Dialect',\n",
       " 'DictReader',\n",
       " 'DictWriter',\n",
       " 'Error',\n",
       " 'QUOTE_ALL',\n",
       " 'QUOTE_MINIMAL',\n",
       " 'QUOTE_NONE',\n",
       " 'QUOTE_NONNUMERIC',\n",
       " 'Sniffer',\n",
       " 'StringIO',\n",
       " '_Dialect',\n",
       " '__all__',\n",
       " '__builtins__',\n",
       " '__cached__',\n",
       " '__doc__',\n",
       " '__file__',\n",
       " '__loader__',\n",
       " '__name__',\n",
       " '__package__',\n",
       " '__spec__',\n",
       " '__version__',\n",
       " 'excel',\n",
       " 'excel_tab',\n",
       " 'field_size_limit',\n",
       " 'get_dialect',\n",
       " 'list_dialects',\n",
       " 're',\n",
       " 'reader',\n",
       " 'register_dialect',\n",
       " 'unix_dialect',\n",
       " 'unregister_dialect',\n",
       " 'writer']"
      ]
     },
     "execution_count": 78,
     "metadata": {},
     "output_type": "execute_result"
    }
   ],
   "source": [
    "dir(csv)"
   ]
  },
  {
   "cell_type": "code",
   "execution_count": 79,
   "id": "d273e804",
   "metadata": {},
   "outputs": [
    {
     "name": "stdout",
     "output_type": "stream",
     "text": [
      "Help on built-in function writer in module _csv:\n",
      "\n",
      "writer(...)\n",
      "    csv_writer = csv.writer(fileobj [, dialect='excel']\n",
      "                                [optional keyword args])\n",
      "        for row in sequence:\n",
      "            csv_writer.writerow(row)\n",
      "    \n",
      "        [or]\n",
      "    \n",
      "        csv_writer = csv.writer(fileobj [, dialect='excel']\n",
      "                                [optional keyword args])\n",
      "        csv_writer.writerows(rows)\n",
      "    \n",
      "    The \"fileobj\" argument can be any object that supports the file API.\n",
      "\n"
     ]
    }
   ],
   "source": [
    "help(csv.writer)"
   ]
  },
  {
   "cell_type": "code",
   "execution_count": null,
   "id": "ad4397fd",
   "metadata": {},
   "outputs": [],
   "source": []
  }
 ],
 "metadata": {
  "kernelspec": {
   "display_name": "Python 3",
   "language": "python",
   "name": "python3"
  },
  "language_info": {
   "codemirror_mode": {
    "name": "ipython",
    "version": 3
   },
   "file_extension": ".py",
   "mimetype": "text/x-python",
   "name": "python",
   "nbconvert_exporter": "python",
   "pygments_lexer": "ipython3",
   "version": "3.8.5"
  }
 },
 "nbformat": 4,
 "nbformat_minor": 5
}
