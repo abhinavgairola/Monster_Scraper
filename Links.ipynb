{
 "cells": [
  {
   "cell_type": "code",
   "execution_count": 49,
   "id": "e0547c6d",
   "metadata": {},
   "outputs": [],
   "source": [
    "import json\n",
    "import csv\n",
    "import pandas as pd\n",
    "import re\n",
    "pd.set_option('display.max_colwidth', None)\n"
   ]
  },
  {
   "cell_type": "code",
   "execution_count": 99,
   "id": "6715e951",
   "metadata": {},
   "outputs": [
    {
     "name": "stdout",
     "output_type": "stream",
     "text": [
      "/Users/abhinavgairola/Desktop/Python_Workspace/Job_Scraper/Script/Data_Science\n"
     ]
    }
   ],
   "source": [
    "%cd Data_Science"
   ]
  },
  {
   "cell_type": "code",
   "execution_count": 100,
   "id": "824f2f52",
   "metadata": {},
   "outputs": [
    {
     "name": "stdout",
     "output_type": "stream",
     "text": [
      "JobsCalifornia.csv             keywordJobsCalifornia.json\r\n",
      "JobsIllinois.csv               keywordJobsIllinois.json\r\n",
      "JobsKansas.csv                 keywordJobsKansas.json\r\n",
      "JobsNew York.csv               keywordJobsNew York.json\r\n",
      "JobsNorth Carolina.csv         keywordJobsNorth Carolina.json\r\n",
      "JobsTexas.csv                  keywordJobsTexas.json\r\n",
      "JobsWashington DC.csv          keywordJobsWashington DC.json\r\n"
     ]
    }
   ],
   "source": [
    "!ls"
   ]
  },
  {
   "cell_type": "code",
   "execution_count": 101,
   "id": "166bb237",
   "metadata": {},
   "outputs": [],
   "source": [
    "f = open('/Users/abhinavgairola/Desktop/Python_Workspace/Job_Scraper/Script/Data_Science/keywordJobsNorth Carolina.json','r')"
   ]
  },
  {
   "cell_type": "code",
   "execution_count": 102,
   "id": "cb8ca9de",
   "metadata": {},
   "outputs": [],
   "source": [
    "data = json.load(f)"
   ]
  },
  {
   "cell_type": "code",
   "execution_count": 103,
   "id": "c2a57ee7",
   "metadata": {},
   "outputs": [],
   "source": [
    "pattern = re.compile('https://www')"
   ]
  },
  {
   "cell_type": "code",
   "execution_count": 104,
   "id": "134775fe",
   "metadata": {},
   "outputs": [],
   "source": [
    "Links = []"
   ]
  },
  {
   "cell_type": "code",
   "execution_count": 105,
   "id": "b25bd473",
   "metadata": {},
   "outputs": [
    {
     "name": "stdout",
     "output_type": "stream",
     "text": [
      "0 link\n",
      "2 link\n",
      "3 link\n",
      "5 link\n",
      "6 link\n",
      "9 link\n",
      "10 link\n",
      "11 link\n",
      "12 link\n",
      "14 link\n",
      "16 link\n",
      "18 link\n",
      "20 link\n",
      "22 link\n",
      "24 link\n",
      "25 link\n",
      "26 link\n",
      "27 link\n",
      "28 link\n",
      "30 link\n",
      "32 link\n",
      "33 link\n",
      "34 link\n",
      "36 link\n",
      "37 link\n",
      "38 link\n",
      "39 link\n",
      "40 link\n",
      "42 link\n",
      "43 link\n",
      "45 link\n",
      "46 link\n",
      "47 link\n",
      "49 link\n",
      "51 link\n",
      "53 link\n",
      "54 link\n",
      "55 link\n",
      "56 link\n",
      "57 link\n",
      "58 link\n",
      "60 link\n",
      "61 link\n",
      "62 link\n"
     ]
    }
   ],
   "source": [
    "for i, content in data.items():\n",
    "    if type(content)!=list:\n",
    "        print(i)\n",
    "        Links.append(content)\n",
    "df = pd.DataFrame({\"Links\":Links})"
   ]
  },
  {
   "cell_type": "code",
   "execution_count": 106,
   "id": "fa1deb8f",
   "metadata": {},
   "outputs": [
    {
     "data": {
      "text/plain": [
       "0                                                        https://www.monster.com/job-openings/data-scientist-cary-nc-nc--828c1dd9-6a4e-48e1-b2c6-9c5207bd9d4a\n",
       "1                                                           https://www.monster.com/job-openings/data-scientist-cary-nc--5e3354ee-83ac-4df8-a657-8457140e0122\n",
       "2                                               https://www.monster.com/job-openings/ml-performance-engineer-raleigh-nc--ee44882f-0797-4ce7-97a4-a1ba5894b367\n",
       "3                                                      https://www.monster.com/job-openings/research-engineer-durham-nc--250d7014-f484-4bab-ace8-93846781ee41\n",
       "4                                                https://www.monster.com/job-openings/deep-learning-scientist-durham-nc--92b601e0-fa0d-42ed-9f4d-669d2025b519\n",
       "5                                             https://www.monster.com/job-openings/python-machine-learning-charlotte-nc--9e8cd998-26ee-4f38-beff-b620de083346\n",
       "6                                              https://www.monster.com/job-openings/field-analytics-scientist-durham-nc--ef92701f-13aa-4163-b06c-27dd828d9200\n",
       "7                                                      https://www.monster.com/job-openings/research-engineer-durham-nc--9d7f3704-36ca-4871-aa25-88dcf3568c33\n",
       "8                                                 https://www.monster.com/job-openings/lead-data-scientist-charlotte-nc--c37e3614-69bc-44ea-bd12-63d4df2fe8c1\n",
       "9                                                    https://www.monster.com/job-openings/data-engineer-data-science-nc--5dacf77c-3a73-4dfc-8955-abeebfd1cb2f\n",
       "10                                                https://www.monster.com/job-openings/data-scientist-remote-raleigh-nc--0faf6e4d-70db-4837-a5a5-227392efe568\n",
       "11                                    https://www.monster.com/job-openings/data-scientist-morrisville-nc-morrisville-nc--4d263b64-119c-476f-baa7-fa9f48ce7d6e\n",
       "12                                             https://www.monster.com/job-openings/mid-level-data-scientist-raleigh-nc--09550fea-e512-4d36-8542-1118f71b0f9d\n",
       "13                                                 https://www.monster.com/job-openings/sr-machine-learning-engineer-nc--93309fd7-8386-46eb-9483-96cbadadfba5\n",
       "14                                                 https://www.monster.com/job-openings/data-scientist-iii-charlotte-nc--788fbf58-0dc7-40db-82f1-a7012ae82d04\n",
       "15                                            https://www.monster.com/job-openings/python-machine-learning-charlotte-nc--3ddf3124-7200-462f-82a8-37146c177913\n",
       "16                               https://www.monster.com/job-openings/principle-investigator-machine-learning-durham-nc--c3473b8d-6581-4e2a-96b2-d6b83ce5b729\n",
       "17                                           https://www.monster.com/job-openings/technical-solutions-specialist-iii-ca--c24b2abd-956d-4cd6-9541-9d9c4876c470\n",
       "18                                              https://www.monster.com/job-openings/lead-data-engineer-data-science-nc--f879cf26-4fd1-4ab8-a707-22ce8dfe6d50\n",
       "19                                                       https://www.monster.com/job-openings/data-scientist-raleigh-nc--9be43f5f-31f9-4ee2-9d3d-a64fbc88624e\n",
       "20       https://www.monster.com/job-openings/data-scientist-with-nlp-role-fixed-income-experience-preferred-raleigh-nc--68c3ee7d-e4cc-4816-917b-573e8281ae0c\n",
       "21                                        https://www.monster.com/job-openings/senior-quantitative-analyst-charlotte-il--837279fc-b814-495b-9798-9a2ed75ae61f\n",
       "22                                           https://www.monster.com/job-openings/principal-data-scientist-charlotte-nc--f776e788-cd4e-4a0a-935e-caa4cce867ed\n",
       "23                                                     https://www.monster.com/job-openings/data-scientist-charlotte-nc--d331af48-beb4-4e42-96b6-a7fad2d257a3\n",
       "24                                                       https://www.monster.com/job-openings/data-scientist-raleigh-nc--7064d4e5-9bbe-44a7-9e82-9d45d76a8b73\n",
       "25                      https://www.monster.com/job-openings/machine-learning-compiler-engineer-senior-staff-raleigh-nc--0e807f1a-ff62-414f-95bd-881817175667\n",
       "26                                      https://www.monster.com/job-openings/chief-data-scientist-gap-cto-fort-bragg-nc--5bdb3f2c-f125-409b-b134-ae2d5cde27f8\n",
       "27                                                 https://www.monster.com/job-openings/data-scientist-iii-charlotte-nc--b2703b48-c3c3-45e5-b46b-758b95e18f21\n",
       "28                                                     https://www.monster.com/job-openings/data-scientist-charlotte-nc--9b5791da-2595-4a3b-9a83-b9f9e6dc0a38\n",
       "29                                                               https://www.monster.com/job-openings/data-scientist-nc--3e9a9d96-2679-4827-80ce-fd6b686b1a83\n",
       "30                             https://www.monster.com/job-openings/sr-data-scientist-remote-davidson-nc-us-davidson-nc--326ff328-92e1-4c01-8bc7-b031bed21bd4\n",
       "31                                                       https://www.monster.com/job-openings/data-scientist-raleigh-nc--755e39d0-4667-454a-8fb3-e6372bd20ca9\n",
       "32                                         https://www.monster.com/job-openings/principal-research-scientist-raleigh-nc--7ae8de70-864f-4505-ade3-e020df2ff8f6\n",
       "33                                             https://www.monster.com/job-openings/early-career-data-scientist-cary-nc--d03c40d4-e447-4fdd-8cd2-2449c739cebf\n",
       "34                                               https://www.monster.com/job-openings/azure-data-scientist-charlotte-nc--94fcff55-54d0-4bdd-bae4-fa071d911e6e\n",
       "35    https://www.monster.com/job-openings/junior-artificial-intelligence-machine-learning-research-engineer-raleigh-nc--ae86ea53-2a23-439a-b7b5-8fc4ba8190c0\n",
       "36                                                          https://www.monster.com/job-openings/senior-r-d-engineer-nc--039d186c-254c-4f65-bf70-5618a21c5fe4\n",
       "37                                     https://www.monster.com/job-openings/intern-data-science-remote-winston-salem-nc--e741dcae-42eb-450e-88e8-2802033c6f27\n",
       "38                                            https://www.monster.com/job-openings/data-scientist-esg-domain-raleigh-nc--390f4f52-9f51-4039-8813-c1e87b69be57\n",
       "39                                                     https://www.monster.com/job-openings/data-scientist-charlotte-nc--7916e0ed-d86c-42aa-ac58-2f1aab948851\n",
       "40                                                     https://www.monster.com/job-openings/data-scientist-charlotte-nc--09c68b2e-cf9e-46a6-95dc-09cd2f9fd5ac\n",
       "41                                                     https://www.monster.com/job-openings/data-scientist-charlotte-nc--8c58ecfe-ecb5-4208-aae3-c2603b806972\n",
       "42                                  https://www.monster.com/job-openings/senior-data-science-engineer-remote-or-on-site--3426ff58-8e19-403b-a36d-5ddaf3552b16\n",
       "43                                           https://www.monster.com/job-openings/senior-reliability-engineer-durham-nc--7b51acb5-ac2e-48e5-84d4-47214e326e4d\n",
       "Name: Links, dtype: object"
      ]
     },
     "execution_count": 106,
     "metadata": {},
     "output_type": "execute_result"
    }
   ],
   "source": [
    "df.Links"
   ]
  },
  {
   "cell_type": "code",
   "execution_count": null,
   "id": "05dc83ac",
   "metadata": {},
   "outputs": [],
   "source": []
  }
 ],
 "metadata": {
  "kernelspec": {
   "display_name": "Python 3",
   "language": "python",
   "name": "python3"
  },
  "language_info": {
   "codemirror_mode": {
    "name": "ipython",
    "version": 3
   },
   "file_extension": ".py",
   "mimetype": "text/x-python",
   "name": "python",
   "nbconvert_exporter": "python",
   "pygments_lexer": "ipython3",
   "version": "3.8.5"
  }
 },
 "nbformat": 4,
 "nbformat_minor": 5
}
